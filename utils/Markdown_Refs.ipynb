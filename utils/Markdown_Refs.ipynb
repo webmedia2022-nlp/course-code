{
 "cells": [
  {
   "cell_type": "markdown",
   "metadata": {
    "colab_type": "text",
    "id": "view-in-github"
   },
   "source": [
    "<a href=\"https://colab.research.google.com/github/webmedia2022-nlp/course-code/blob/main/NLP_WebMedia2022.ipynb\" target=\"_parent\"><img src=\"https://colab.research.google.com/assets/colab-badge.svg\" alt=\"Open In Colab\"/></a>"
   ]
  },
  {
   "cell_type": "markdown",
   "metadata": {
    "id": "Lhfnlq1Surtk"
   },
   "source": [
    "## Reference\n",
    "\n",
    "Markdown | Preview\n",
    "--- | ---\n",
    "`**bold text**` | **bold text**\n",
    "`*italicized text*` or `_italicized text_` | *italicized text*\n",
    "`` `Monospace` `` | `Monospace`\n",
    "`~~strikethrough~~` | ~~strikethrough~~\n",
    "`[A link](https://www.google.com)` | [A link](https://www.google.com)\n",
    "`![An image](https://www.google.com/images/rss.png)` | ![An image](https://www.google.com/images/rss.png)\n",
    "\n",
    "\n",
    "---\n",
    "Headings are rendered as titles.\n",
    "\n",
    "```markdown\n",
    "# Section 1\n",
    "# Section 2\n",
    "## Sub-section under Section 2\n",
    "### Sub-section under the sub-section under Section 2\n",
    "# Section 3\n",
    "```\n",
    "\n",
    "# Section 1\n",
    "# Section 2\n",
    "## Sub-section under Section 2\n",
    "### Sub-section under the sub-section under Section 2\n",
    "# Section 3\n",
    "\n",
    "The table of contents, available on the left side of Colab, is populated using at most one section title from each text cell.\n",
    "\n",
    "---\n",
    "\n",
    "```markdown\n",
    ">One level of indentation\n",
    "```\n",
    "\n",
    ">One level of indentation\n",
    "\n",
    "\n",
    "```markdown\n",
    ">>Two levels of indentation\n",
    "```\n",
    "\n",
    ">>Two levels of indentation\n",
    "\n",
    "---\n",
    "\n",
    "Code blocks\n",
    "\n",
    "````\n",
    "```python\n",
    "print(\"a\")\n",
    "```\n",
    "````\n",
    "\n",
    "```python\n",
    "print(\"a\")\n",
    "```\n",
    "\n",
    "---\n",
    "\n",
    "Ordered lists:\n",
    "```markdown\n",
    "1. One\n",
    "1. Two\n",
    "1. Three\n",
    "```\n",
    "1. One\n",
    "1. Two\n",
    "1. Three\n",
    "\n",
    "---\n",
    "\n",
    "Unordered lists:\n",
    "```markdown\n",
    "* One\n",
    "* Two\n",
    "* Three\n",
    "```\n",
    "* One\n",
    "* Two\n",
    "* Three\n",
    "\n",
    "---\n",
    "\n",
    "Equations:\n",
    "\n",
    "```markdown\n",
    "$y=x^2$\n",
    "\n",
    "$e^{i\\pi} + 1 = 0$\n",
    "\n",
    "$e^x=\\sum_{i=0}^\\infty \\frac{1}{i!}x^i$\n",
    "\n",
    "$\\frac{n!}{k!(n-k)!} = {n \\choose k}$\n",
    "\n",
    "$A_{m,n} =\n",
    " \\begin{pmatrix}\n",
    "  a_{1,1} & a_{1,2} & \\cdots & a_{1,n} \\\\\n",
    "  a_{2,1} & a_{2,2} & \\cdots & a_{2,n} \\\\\n",
    "  \\vdots  & \\vdots  & \\ddots & \\vdots  \\\\\n",
    "  a_{m,1} & a_{m,2} & \\cdots & a_{m,n}\n",
    " \\end{pmatrix}$\n",
    "```\n",
    "\n",
    "$y=x^2$\n",
    "\n",
    "$e^{i\\pi} + 1 = 0$\n",
    "\n",
    "$e^x=\\sum_{i=0}^\\infty \\frac{1}{i!}x^i$\n",
    "\n",
    "$\\frac{n!}{k!(n-k)!} = {n \\choose k}$\n",
    "\n",
    "$A_{m,n} =\n",
    " \\begin{pmatrix}\n",
    "  a_{1,1} & a_{1,2} & \\cdots & a_{1,n} \\\\\n",
    "  a_{2,1} & a_{2,2} & \\cdots & a_{2,n} \\\\\n",
    "  \\vdots  & \\vdots  & \\ddots & \\vdots  \\\\\n",
    "  a_{m,1} & a_{m,2} & \\cdots & a_{m,n}\n",
    " \\end{pmatrix}$\n",
    "\n",
    "\n",
    " ---\n",
    "\n",
    "Tables:\n",
    "```markdown\n",
    "First column name  | Second column name \n",
    "-------------------|------------------\n",
    "Row 1, Col 1       | Row 1, Col 2 \n",
    "Row 2, Col 1       | Row 2, Col 2 \n",
    "\n",
    "```\n",
    "\n",
    "First column name  | Second column name \n",
    "-------------------|------------------\n",
    "Row 1, Col 1       | Row 1, Col 2 \n",
    "Row 2, Col 1       | Row 2, Col 2 \n",
    "\n",
    "---\n",
    "\n",
    "Horizontal rules:\n",
    "```markdown\n",
    "---\n",
    "```\n",
    "\n",
    "---\n",
    "\n",
    "\n"
   ]
  },
  {
   "cell_type": "markdown",
   "metadata": {
    "id": "w86a4I4fmkvD"
   },
   "source": [
    "## Differences between Colab Markdown and other Markdown dialects\n",
    "\n",
    "Colab uses [marked.js](https://github.com/chjj/marked) and so is similar but not quite identical to the Markdown used by Jupyter and Github.\n",
    "\n",
    "Colab supports (MathJax) $\\LaTeX$ equations like Jupyter, but does not allow HTML tags in the Markdown. Colab does not support some GitHub additions like emojis and to-do checkboxes.\n",
    "\n",
    "If HTML must be included in a Colab notebook, see the [%%html magic](/notebooks/basic_features_overview.ipynb#scrollTo=qM4myQGfQboQ)."
   ]
  },
  {
   "cell_type": "markdown",
   "metadata": {
    "id": "uSx6SUb1Komv"
   },
   "source": [
    "## Useful references"
   ]
  },
  {
   "cell_type": "markdown",
   "metadata": {
    "id": "5Y3CStVkLxqt"
   },
   "source": [
    "* [Github Markdown basics](https://help.github.com/articles/markdown-basics/)\n",
    "* [Github flavored Markdown](https://help.github.com/articles/github-flavored-markdown/)\n",
    "* [Original Markdown spec: Syntax](http://daringfireball.net/projects/markdown/syntax)\n",
    "* [Original Markdown spec: Basics](http://daringfireball.net/projects/markdown/basics)\n",
    "* [marked.js library used by Colab](https://github.com/chjj/marked)\n",
    "* [LaTex mathematics for equations](https://en.wikibooks.org/wiki/LaTeX/Mathematics)"
   ]
  },
  {
   "cell_type": "markdown",
   "metadata": {},
   "source": []
  },
  {
   "cell_type": "markdown",
   "metadata": {},
   "source": []
  }
 ],
 "metadata": {
  "colab": {
   "collapsed_sections": [],
   "include_colab_link": true,
   "name": "Markdown Guide",
   "provenance": []
  },
  "kernelspec": {
   "display_name": "Python 3 (ipykernel)",
   "language": "python",
   "name": "python3"
  },
  "language_info": {
   "codemirror_mode": {
    "name": "ipython",
    "version": 3
   },
   "file_extension": ".py",
   "mimetype": "text/x-python",
   "name": "python",
   "nbconvert_exporter": "python",
   "pygments_lexer": "ipython3",
   "version": "3.8.13"
  }
 },
 "nbformat": 4,
 "nbformat_minor": 4
}
